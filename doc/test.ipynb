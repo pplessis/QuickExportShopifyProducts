{
 "cells": [
  {
   "cell_type": "markdown",
   "metadata": {},
   "source": [
    "# Examples and Tests"
   ]
  },
  {
   "cell_type": "markdown",
   "metadata": {},
   "source": [
    "### Add limit on Attribute definition\n",
    "\n",
    "In Python, what is the purpose of __slots__ and what are the cases one should avoid this?\n",
    "TLDR:\n",
    "\n",
    "The special attribute __slots__ allows you to explicitly state which instance attributes you expect your object instances to have, with the expected results:\n",
    "\n",
    "faster attribute access.\n",
    "space savings in memory.\n",
    "The space savings is from\n",
    "\n",
    "Storing value references in slots instead of __dict__.\n",
    "Denying __dict__ and __weakref__ creation if parent classes deny them and you declare __slots__.\n",
    "\n",
    "#SEE: https://stackoverflow.com/questions/472000/usage-of-slots"
   ]
  },
  {
   "cell_type": "code",
   "execution_count": 3,
   "metadata": {},
   "outputs": [
    {
     "name": "stdout",
     "output_type": "stream",
     "text": [
      "Togo\n",
      "Brown\n",
      "2ft\n"
     ]
    }
   ],
   "source": [
    "class Animal:\n",
    "    __slots__ = (\"name\", \"color\", \"height\")\n",
    "\n",
    "    def __init__(self, name, color):\n",
    "        self.name = name\n",
    "        self.color = color\n",
    "\n",
    "# Création d'un objet\n",
    "a = Animal(\"Togo\", \"Brown\")\n",
    "\n",
    "# Essayons d'ajouter un attribut non déclaré\n",
    "try:\n",
    "    a.height = \"2ft\"\n",
    "except AttributeError:\n",
    "    print(\"Erreur : Impossible d'ajouter un attribut non déclaré.\")\n",
    "\n",
    "# Accès aux attributs déclarés\n",
    "print(a.name)  # Affiche : Togo\n",
    "print(a.color)  # Affiche : Brown\n",
    "\n",
    "print(a.height)\n"
   ]
  },
  {
   "cell_type": "markdown",
   "metadata": {},
   "source": [
    "## Create a new PyEnv\n",
    "\n",
    "<code>\n",
    "$ pyenv install 3.12.9 <br/>\n",
    "$ pip install -r ./requirements.txt \n",
    "</code>"
   ]
  }
 ],
 "metadata": {
  "kernelspec": {
   "display_name": "Python 3",
   "language": "python",
   "name": "python3"
  },
  "language_info": {
   "codemirror_mode": {
    "name": "ipython",
    "version": 3
   },
   "file_extension": ".py",
   "mimetype": "text/x-python",
   "name": "python",
   "nbconvert_exporter": "python",
   "pygments_lexer": "ipython3",
   "version": "3.12.0"
  }
 },
 "nbformat": 4,
 "nbformat_minor": 2
}
