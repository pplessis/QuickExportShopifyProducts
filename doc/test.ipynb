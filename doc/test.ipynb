{
 "cells": [
  {
   "cell_type": "markdown",
   "metadata": {},
   "source": [
    "# Examples and Tests"
   ]
  },
  {
   "cell_type": "markdown",
   "metadata": {},
   "source": [
    "### Add limit on Attribute definition\n",
    "\n",
    "In Python, what is the purpose of __slots__ and what are the cases one should avoid this?\n",
    "TLDR:\n",
    "\n",
    "The special attribute __slots__ allows you to explicitly state which instance attributes you expect your object instances to have, with the expected results:\n",
    "\n",
    "faster attribute access.\n",
    "space savings in memory.\n",
    "The space savings is from\n",
    "\n",
    "Storing value references in slots instead of __dict__.\n",
    "Denying __dict__ and __weakref__ creation if parent classes deny them and you declare __slots__.\n",
    "\n",
    "#SEE: https://stackoverflow.com/questions/472000/usage-of-slots"
   ]
  },
  {
   "cell_type": "code",
   "execution_count": 3,
   "metadata": {},
   "outputs": [
    {
     "name": "stdout",
     "output_type": "stream",
     "text": [
      "Togo\n",
      "Brown\n",
      "2ft\n"
     ]
    }
   ],
   "source": [
    "class Animal:\n",
    "    __slots__ = (\"name\", \"color\", \"height\")\n",
    "\n",
    "    def __init__(self, name, color):\n",
    "        self.name = name\n",
    "        self.color = color\n",
    "\n",
    "# Création d'un objet\n",
    "a = Animal(\"Togo\", \"Brown\")\n",
    "\n",
    "# Essayons d'ajouter un attribut non déclaré\n",
    "try:\n",
    "    a.height = \"2ft\"\n",
    "except AttributeError:\n",
    "    print(\"Erreur : Impossible d'ajouter un attribut non déclaré.\")\n",
    "\n",
    "# Accès aux attributs déclarés\n",
    "print(a.name)  # Affiche : Togo\n",
    "print(a.color)  # Affiche : Brown\n",
    "\n",
    "print(a.height)\n"
   ]
  },
  {
   "cell_type": "markdown",
   "metadata": {},
   "source": [
    "## Create a new PyEnv\n",
    "\n",
    "<code>\n",
    "$ pyenv install 3.12.9 <br/>\n",
    "$ pip install -r ./requirements.txt \n",
    "</code>"
   ]
  },
  {
   "cell_type": "markdown",
   "metadata": {},
   "source": [
    "## Test Imspect Classes \n",
    "\n",
    "#SEE: https://docs.python.org/3/library/inspect.html\n",
    "\n"
   ]
  },
  {
   "cell_type": "code",
   "execution_count": null,
   "metadata": {},
   "outputs": [
    {
     "name": "stdout",
     "output_type": "stream",
     "text": [
      "('age', 45)\n",
      "('family', <class '__main__.Detail'>)\n",
      "('lastname', None)\n",
      "('name', 'Pierre')\n",
      "Name: age | Type: <class 'int'> | Value: 45\n",
      "Name: family | Type: <class 'type'> | Value: <class '__main__.Detail'>\n",
      "Name: lastname | Type: <class 'NoneType'> | Value: None\n",
      "Name: name | Type: <class 'str'> | Value: Pierre\n",
      "['COUNT', 'INDEX']\n"
     ]
    }
   ],
   "source": [
    "import inspect\n",
    "import typing\n",
    "from dataclasses import dataclass\n",
    "\n",
    "@dataclass\n",
    "class Detail:\n",
    "    def __init__(self) -> None:\n",
    "        self.detail = 'TEST'\n",
    "        pass\n",
    "@dataclass\n",
    "class Item:\n",
    "    def __init__(self, name, age):\n",
    "        self.name = name\n",
    "        self.age = age\n",
    "        self.family = Detail\n",
    "        self.lastname = None\n",
    "\n",
    "## Object scanner\n",
    "def getClassMembers (object) -> list:\n",
    "    returnList = []\n",
    "    list = inspect.getmembers ( object )\n",
    "    for item in list:\n",
    "        if ( not ( '__' in item[0] ) ):\n",
    "            returnList.append(item)\n",
    "\n",
    "    return returnList\n",
    "\n",
    "## CSV Functions\n",
    "def csvHead (object) -> list[str] :\n",
    "    forceUpperCase = True\n",
    "    returnHead = []\n",
    "    attributes =  getClassMembers (object)\n",
    "    for name, value in attributes:\n",
    "        returnHead.append( name.upper() if forceUpperCase else name  )\n",
    "\n",
    "    return returnHead\n",
    "\n",
    "\n",
    "# MAIN\n",
    "item = Item('Pierre', 45)\n",
    "info = getClassMembers (item)\n",
    "\n",
    "for item in info:\n",
    "    print(item)\n",
    "\n",
    "\n",
    "# Show all Members\n",
    "for name,value in info:\n",
    "   if ( type(value) == typing.GenericAlias ) :\n",
    "        print(f\"{name}: ListValues \")\n",
    "   else:\n",
    "        print(f\"Name: {name} | Type: {type(value)} | Value: {value}\")\n",
    "\n",
    "print ( csvHead( item ) )"
   ]
  },
  {
   "cell_type": "markdown",
   "metadata": {},
   "source": [
    "## APPL Title\n",
    "\n",
    "1- Use application \"http://patorjk.com/software/taag/\"\n",
    "2- Add Text and Generate\n",
    "3- Copy/Paste result to Python File"
   ]
  },
  {
   "cell_type": "code",
   "execution_count": 1,
   "metadata": {},
   "outputs": [
    {
     "name": "stdout",
     "output_type": "stream",
     "text": [
      "\n",
      "███████╗██╗  ██╗████████╗██████╗  █████╗  ██████╗████████╗███████╗    ███████╗██╗  ██╗ ██████╗ ██████╗ ██╗███████╗██╗   ██╗\n",
      "██╔════╝╚██╗██╔╝╚══██╔══╝██╔══██╗██╔══██╗██╔════╝╚══██╔══╝██╔════╝    ██╔════╝██║  ██║██╔═══██╗██╔══██╗██║██╔════╝╚██╗ ██╔╝\n",
      "█████╗   ╚███╔╝    ██║   ██████╔╝███████║██║        ██║   ███████╗    ███████╗███████║██║   ██║██████╔╝██║█████╗   ╚████╔╝ \n",
      "██╔══╝   ██╔██╗    ██║   ██╔══██╗██╔══██║██║        ██║   ╚════██║    ╚════██║██╔══██║██║   ██║██╔═══╝ ██║██╔══╝    ╚██╔╝  \n",
      "███████╗██╔╝ ██╗   ██║   ██║  ██║██║  ██║╚██████╗   ██║   ███████║    ███████║██║  ██║╚██████╔╝██║     ██║██║        ██║   \n",
      "╚══════╝╚═╝  ╚═╝   ╚═╝   ╚═╝  ╚═╝╚═╝  ╚═╝ ╚═════╝   ╚═╝   ╚══════╝    ╚══════╝╚═╝  ╚═╝ ╚═════╝ ╚═╝     ╚═╝╚═╝        ╚═╝   \n",
      "    \n"
     ]
    }
   ],
   "source": [
    "def title() -> str:\n",
    "    title =\"\"\"\n",
    "███████╗██╗  ██╗████████╗██████╗  █████╗  ██████╗████████╗███████╗    ███████╗██╗  ██╗ ██████╗ ██████╗ ██╗███████╗██╗   ██╗\n",
    "██╔════╝╚██╗██╔╝╚══██╔══╝██╔══██╗██╔══██╗██╔════╝╚══██╔══╝██╔════╝    ██╔════╝██║  ██║██╔═══██╗██╔══██╗██║██╔════╝╚██╗ ██╔╝\n",
    "█████╗   ╚███╔╝    ██║   ██████╔╝███████║██║        ██║   ███████╗    ███████╗███████║██║   ██║██████╔╝██║█████╗   ╚████╔╝ \n",
    "██╔══╝   ██╔██╗    ██║   ██╔══██╗██╔══██║██║        ██║   ╚════██║    ╚════██║██╔══██║██║   ██║██╔═══╝ ██║██╔══╝    ╚██╔╝  \n",
    "███████╗██╔╝ ██╗   ██║   ██║  ██║██║  ██║╚██████╗   ██║   ███████║    ███████║██║  ██║╚██████╔╝██║     ██║██║        ██║   \n",
    "╚══════╝╚═╝  ╚═╝   ╚═╝   ╚═╝  ╚═╝╚═╝  ╚═╝ ╚═════╝   ╚═╝   ╚══════╝    ╚══════╝╚═╝  ╚═╝ ╚═════╝ ╚═╝     ╚═╝╚═╝        ╚═╝   \n",
    "    \"\"\"\n",
    "\n",
    "    return title\n",
    "\n",
    "print (title())"
   ]
  }
 ],
 "metadata": {
  "kernelspec": {
   "display_name": "Python 3",
   "language": "python",
   "name": "python3"
  },
  "language_info": {
   "codemirror_mode": {
    "name": "ipython",
    "version": 3
   },
   "file_extension": ".py",
   "mimetype": "text/x-python",
   "name": "python",
   "nbconvert_exporter": "python",
   "pygments_lexer": "ipython3",
   "version": "3.13.2"
  }
 },
 "nbformat": 4,
 "nbformat_minor": 2
}
